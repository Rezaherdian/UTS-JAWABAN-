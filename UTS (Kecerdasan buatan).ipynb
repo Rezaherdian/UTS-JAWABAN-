# UTS-JAWABAN-


import json
from collections import defaultdict

# Data Initialization
company_detail_list = [
    {'name': 'Company 1', 'domain': 'retail.com', 'country': 'United States'},
    {'name': 'Company 2', 'domain': 'technology.com', 'country': 'United Kingdom'},
    {'name': 'Company 3', 'domain': 'healthcare.com', 'country': 'United States'}
]

employee_detail_list = [
    {'name': 'EMP-0001', 'first_name': 'John', 'last_name': 'Doe', 'full_name': 'John Doe', 'company': 'Company 1', 'nationality': 'Australia'},
    {'name': 'EMP-0002', 'first_name': 'Tom', 'last_name': 'Smith', 'full_name': 'Tom Smith', 'company': 'Company 2', 'nationality': 'Hong Kong'},
    {'name': 'EMP-0003', 'first_name': 'Andrew', 'last_name': 'Sebastian', 'full_name': 'Andrew Sebastian', 'company': 'Company 3', 'nationality': 'United States'},
    {'name': 'EMP-0004', 'first_name': 'Ying Han', 'last_name': 'Tan', 'full_name': 'Ying Han Tan', 'company': 'Company 1', 'nationality': 'Hong Kong'},
    {'name': 'EMP-0005', 'first_name': 'Kenneth', 'last_name': 'Ng', 'full_name': 'Kenneth Ng', 'company': 'Company 3', 'nationality': 'United States'},
    {'name': 'EMP-0006', 'first_name': 'Rubby', 'last_name': 'Lee', 'full_name': 'Rubby Lee', 'company': 'Company 2', 'nationality': 'United States'},
    {'name': 'EMP-0007', 'first_name': 'Robert', 'last_name': 'White', 'full_name': 'Robert White', 'company': 'Company 1', 'nationality': 'Australia'},
]

# Task 1: Urutkan perusahaan berdasarkan nama
sorted_companies_by_name = sorted(
    [{"name": company['name']} for company in company_detail_list],
    key=lambda x: x['name'],
    reverse=True
)
print("Task 1 Output:", json.dumps(sorted_companies_by_name, indent=4, separators=(",", ": ")))

# Task 2: Tampilkan detail perusahaan lengkap
print("\nTask 2 Output:")
for company in company_detail_list:
    print(f"{company['name']}: {company['domain']} ({company['country']})")

# Task 3: Kelompokkan karyawan berdasarkan domain perusahaan
employees_by_domain = defaultdict(list)
company_domain_map = {company['name']: company['domain'] for company in company_detail_list}

for employee in employee_detail_list:
    domain = company_domain_map[employee['company']]
    employees_by_domain[domain].append(employee['full_name'])

# Menampilkan output dari Task 3 dalam format JSON yang rapi
print("\nTask 3 Output:", json.dumps(employees_by_domain, indent=4, separators=(",", ": ")))

# Task 4: Daftar karyawan dengan negara perusahaan
def employees_with_company_country():
    company_country_map = {company['name']: company['country'] for company in company_detail_list}
    result = [
        {"full_name": employee['full_name'], "company": employee['company'], "country": company_country_map[employee['company']]}
        for employee in employee_detail_list
    ]
    return result

# Menampilkan output dari Task 4 dalam format JSON yang rapi
print("\nTask 4 Output:", json.dumps(employees_with_company_country(), indent=4, separators=(",", ": ")))

# Task 5: Hitung jumlah karyawan berdasarkan kebangsaan di setiap perusahaan
def company_nationality_count():
    nationality_count_by_company = defaultdict(lambda: defaultdict(int))
    
    for employee in employee_detail_list:
        company = employee['company']
        nationality = employee['nationality']
        nationality_count_by_company[company][nationality] += 1
    
    result = [
        {"company": company, "employee_nationality": dict(nationalities)}
        for company, nationalities in nationality_count_by_company.items()
    ]
    
    return result

# Menampilkan output dari Task 5 dalam format JSON yang rapi
print("\nTask 5 Output:", json.dumps(company_nationality_count(), indent=4, separators=(",", ": ")))
